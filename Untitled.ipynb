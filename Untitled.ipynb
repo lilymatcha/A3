{
 "cells": [
  {
   "cell_type": "code",
   "execution_count": 7,
   "metadata": {
    "collapsed": false
   },
   "outputs": [],
   "source": [
    "import pandas\n",
    "import sklearn\n",
    "\n",
    "# with open(\"driving.csv\") as f:\n",
    "#     for line in f:\n",
    "#         driving_data = numpy.loadtxt(\"driving.csv\", delimiter=\",\", usecols=(10, 11, 12))\n",
    "\n",
    "# all \"_data\" vals are DataFrames\n",
    "driving_data = pandas.read_csv(\"driving.csv\", header=0, usecols=(10, 11, 12))\n",
    "walking_data = pandas.read_csv(\"walking.csv\", header=0, usecols=(10, 11, 12))\n",
    "running_data = pandas.read_csv(\"running.csv\", header=0, usecols=(10, 11, 12))\n",
    "sitting_data = pandas.read_csv(\"static.csv\", header=0, usecols=(10, 11, 12))\n",
    "climbing_data = pandas.read_csv(\"upstair.csv\", header=0, usecols=(10, 11, 12))\n",
    "\n",
    "# take first 4 mins of data as training data\n",
    "\n",
    "# how do i separate first four mins of data into ten points from last min of data? basically: how do i make features?"
   ]
  },
  {
   "cell_type": "code",
   "execution_count": null,
   "metadata": {
    "collapsed": true
   },
   "outputs": [],
   "source": []
  }
 ],
 "metadata": {
  "kernelspec": {
   "display_name": "Python 2",
   "language": "python",
   "name": "python2"
  },
  "language_info": {
   "codemirror_mode": {
    "name": "ipython",
    "version": 2
   },
   "file_extension": ".py",
   "mimetype": "text/x-python",
   "name": "python",
   "nbconvert_exporter": "python",
   "pygments_lexer": "ipython2",
   "version": "2.7.11"
  }
 },
 "nbformat": 4,
 "nbformat_minor": 0
}
